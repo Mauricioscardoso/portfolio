{
  "nbformat": 4,
  "nbformat_minor": 0,
  "metadata": {
    "colab": {
      "provenance": [],
      "authorship_tag": "ABX9TyMG6MKFmxjTIET+wW010yyi",
      "include_colab_link": true
    },
    "kernelspec": {
      "name": "python3",
      "display_name": "Python 3"
    },
    "language_info": {
      "name": "python"
    }
  },
  "cells": [
    {
      "cell_type": "markdown",
      "metadata": {
        "id": "view-in-github",
        "colab_type": "text"
      },
      "source": [
        "<a href=\"https://colab.research.google.com/github/Mauricioscardoso/portfolio/blob/main/numero_por_escrito_usando_tuplas.ipynb\" target=\"_parent\"><img src=\"https://colab.research.google.com/assets/colab-badge.svg\" alt=\"Open In Colab\"/></a>"
      ]
    },
    {
      "cell_type": "code",
      "execution_count": null,
      "metadata": {
        "id": "e8QtdN8IysnM",
        "colab": {
          "base_uri": "https://localhost:8080/"
        },
        "outputId": "4b0e83e1-acfa-4db8-89d0-eb09ed2d49e3"
      },
      "outputs": [
        {
          "output_type": "stream",
          "name": "stdout",
          "text": [
            "Digite um número de 0 a 10: 1\n",
            "Voce digitou o número um\n"
          ]
        }
      ],
      "source": [
        "#Desaafio digitar um numero de 0 a 10 em que devera ser impresso o numero por escrito usando tuplas\n",
        "cont = ('zero','um','dois','tres','quatro','cinco','seis','sete','oito','nove','dez')\n",
        "while True:\n",
        "  num = int(input('Digite um número de 0 a 10: '))\n",
        "  if 0 <= num <= 10:\n",
        "      break\n",
        "  print('tente novamente:')\n",
        "print(f'Voce digitou o número {cont[num]}')\n"
      ]
    }
  ]
}